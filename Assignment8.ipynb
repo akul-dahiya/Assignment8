{
 "cells": [
  {
   "cell_type": "markdown",
   "id": "c95dcdf5-d6da-4aeb-9f5e-2830857c5cdc",
   "metadata": {},
   "source": [
    "Q1. What is an exception in pyhton? Write the difference between Exceptions and syntax error?\n",
    "\n",
    "Ans. Exceptions are used to handle various types of errors and exceptional situations that can arise during program execution. When an exception occurs, the program's execution is interrupted, and the control is transferred to an appropriate exception handler.\n",
    "\n",
    "Differnce between Exceptions and syntax error:\n",
    "Exceptions occur during the execution of a program due to unexpected situations, invalid inputs, runtime issues, etc.Exceptions occur at runtime when the problematic code is executed. Syntax error occur during the parsing of the code due to incorrect syntax or structure. Syntax Errors detected by the Python interpreter before the code is executed."
   ]
  },
  {
   "cell_type": "markdown",
   "id": "6fe104c1-9611-458b-b40d-6117f48351bb",
   "metadata": {},
   "source": [
    "Q2. What happens when an exception is not handled ? Explain with an example\n",
    "\n",
    "Ans.  If the unhandled exception continues to propagate without being caught and handled, it eventually results in the termination of the program. This termination is accompanied by an error message that provides information about the exception type and a traceback, indicating where the exception was raised.\n",
    "\n",
    "\n",
    "Example:"
   ]
  },
  {
   "cell_type": "code",
   "execution_count": 1,
   "id": "73b7d420-07ec-48f0-8081-fe7be7dca3b5",
   "metadata": {},
   "outputs": [
    {
     "name": "stdin",
     "output_type": "stream",
     "text": [
      "Enter the first number:  3\n",
      "Enter the second number:  0\n"
     ]
    },
    {
     "ename": "ZeroDivisionError",
     "evalue": "division by zero",
     "output_type": "error",
     "traceback": [
      "\u001b[0;31m---------------------------------------------------------------------------\u001b[0m",
      "\u001b[0;31mZeroDivisionError\u001b[0m                         Traceback (most recent call last)",
      "Cell \u001b[0;32mIn[1], line 10\u001b[0m\n\u001b[1;32m      7\u001b[0m     result \u001b[38;5;241m=\u001b[39m divide(num1, num2)\n\u001b[1;32m      8\u001b[0m     \u001b[38;5;28mprint\u001b[39m(\u001b[38;5;124m\"\u001b[39m\u001b[38;5;124mResult:\u001b[39m\u001b[38;5;124m\"\u001b[39m, result)\n\u001b[0;32m---> 10\u001b[0m \u001b[43mmain\u001b[49m\u001b[43m(\u001b[49m\u001b[43m)\u001b[49m\n",
      "Cell \u001b[0;32mIn[1], line 7\u001b[0m, in \u001b[0;36mmain\u001b[0;34m()\u001b[0m\n\u001b[1;32m      5\u001b[0m num1 \u001b[38;5;241m=\u001b[39m \u001b[38;5;28mint\u001b[39m(\u001b[38;5;28minput\u001b[39m(\u001b[38;5;124m\"\u001b[39m\u001b[38;5;124mEnter the first number: \u001b[39m\u001b[38;5;124m\"\u001b[39m))\n\u001b[1;32m      6\u001b[0m num2 \u001b[38;5;241m=\u001b[39m \u001b[38;5;28mint\u001b[39m(\u001b[38;5;28minput\u001b[39m(\u001b[38;5;124m\"\u001b[39m\u001b[38;5;124mEnter the second number: \u001b[39m\u001b[38;5;124m\"\u001b[39m))\n\u001b[0;32m----> 7\u001b[0m result \u001b[38;5;241m=\u001b[39m \u001b[43mdivide\u001b[49m\u001b[43m(\u001b[49m\u001b[43mnum1\u001b[49m\u001b[43m,\u001b[49m\u001b[43m \u001b[49m\u001b[43mnum2\u001b[49m\u001b[43m)\u001b[49m\n\u001b[1;32m      8\u001b[0m \u001b[38;5;28mprint\u001b[39m(\u001b[38;5;124m\"\u001b[39m\u001b[38;5;124mResult:\u001b[39m\u001b[38;5;124m\"\u001b[39m, result)\n",
      "Cell \u001b[0;32mIn[1], line 2\u001b[0m, in \u001b[0;36mdivide\u001b[0;34m(a, b)\u001b[0m\n\u001b[1;32m      1\u001b[0m \u001b[38;5;28;01mdef\u001b[39;00m \u001b[38;5;21mdivide\u001b[39m(a, b):\n\u001b[0;32m----> 2\u001b[0m     \u001b[38;5;28;01mreturn\u001b[39;00m \u001b[43ma\u001b[49m\u001b[43m \u001b[49m\u001b[38;5;241;43m/\u001b[39;49m\u001b[43m \u001b[49m\u001b[43mb\u001b[49m\n",
      "\u001b[0;31mZeroDivisionError\u001b[0m: division by zero"
     ]
    }
   ],
   "source": [
    "def divide(a, b):\n",
    "    return a / b\n",
    "\n",
    "def main():\n",
    "    num1 = int(input(\"Enter the first number: \"))\n",
    "    num2 = int(input(\"Enter the second number: \"))\n",
    "    result = divide(num1, num2)\n",
    "    print(\"Result:\", result)\n",
    "\n",
    "main()"
   ]
  },
  {
   "cell_type": "markdown",
   "id": "f24af5f7-eb7e-407f-b4dd-75f7a440df92",
   "metadata": {},
   "source": [
    "In this example, if the user enters 0 as the second number, the divide() function will raise a ZeroDivisionError. Since there's no try-except block in the main() function to catch this exception, the exception will propagate up to the main() function. Since the main() function also does not handle the exception, it will continue to propagate up to the top-level of the program."
   ]
  },
  {
   "cell_type": "markdown",
   "id": "02c78868-bc7b-4021-8705-49e98382e8c9",
   "metadata": {},
   "source": [
    "Q3. Which python statements are used to catch and handle exceptions? Explain with example\n",
    "\n",
    "Ans.  The try and except statements are used to catch and handle exceptions. The try block contains the code that might raise an exception, and the except block contains the code to handle the exception if it occurs.\n",
    "\n",
    "Example:"
   ]
  },
  {
   "cell_type": "code",
   "execution_count": 2,
   "id": "0685ba2f-e78e-45ae-8296-b85fd33d58ef",
   "metadata": {},
   "outputs": [
    {
     "name": "stdin",
     "output_type": "stream",
     "text": [
      "Enter the number: 0\n"
     ]
    },
    {
     "name": "stdout",
     "output_type": "stream",
     "text": [
      "Cannot divide by zero\n"
     ]
    }
   ],
   "source": [
    "try:\n",
    "    num = int(input(\"Enter the number:\"))\n",
    "    result = 10/num\n",
    "    print(\"Result:\",result)\n",
    "except ZeroDivisionError :\n",
    "    print(\"Cannot divide by zero\")"
   ]
  },
  {
   "cell_type": "markdown",
   "id": "c571331c-ac65-4863-8353-7f7878d3db2a",
   "metadata": {},
   "source": [
    "Q4. Explain with an example\n",
    "\n",
    "a) try and else\n",
    "b) finally\n",
    "c) raise\n",
    "\n",
    "Ans. a) try and else: The else block in a try-except structure is executed if no exceptions are raised within the try block. It is used to specify code that should be executed when no exceptions occur.\n",
    "\n",
    "Example:"
   ]
  },
  {
   "cell_type": "code",
   "execution_count": 1,
   "id": "00124e3c-a6a1-4a49-9433-edfe0fb84bb5",
   "metadata": {},
   "outputs": [
    {
     "name": "stdin",
     "output_type": "stream",
     "text": [
      "Enter a number:  4\n"
     ]
    },
    {
     "name": "stdout",
     "output_type": "stream",
     "text": [
      "Result: 2.5\n"
     ]
    }
   ],
   "source": [
    "try:\n",
    "    num = int(input(\"Enter a number: \"))\n",
    "    result = 10 / num\n",
    "except ZeroDivisionError:\n",
    "    print(\"Cannot divide by zero.\")\n",
    "else:\n",
    "    print(\"Result:\", result)\n"
   ]
  },
  {
   "cell_type": "markdown",
   "id": "9ef633ad-c8da-42ed-a0cb-10ac243af075",
   "metadata": {},
   "source": [
    "b) finally: The finally block is executed regardless of whether an exception occurred or not. It's often used to ensure cleanup operations or finalization steps are performed.\n",
    "\n",
    "Example:\n"
   ]
  },
  {
   "cell_type": "code",
   "execution_count": 2,
   "id": "eb88e65a-4aae-4ba7-a7dc-c55e5583105d",
   "metadata": {},
   "outputs": [
    {
     "name": "stdout",
     "output_type": "stream",
     "text": [
      "File not found.\n"
     ]
    }
   ],
   "source": [
    "try:\n",
    "    file = open(\"example.txt\", \"r\")\n",
    "    content = file.read()\n",
    "    print(content)\n",
    "except FileNotFoundError:\n",
    "    print(\"File not found.\")\n",
    "finally:\n",
    "    if 'file' in locals():\n",
    "        file.close()\n",
    "        print(\"File closed or not.\")\n"
   ]
  },
  {
   "cell_type": "markdown",
   "id": "cd44fe20-2198-4a0c-9015-240f02a97dee",
   "metadata": {},
   "source": [
    "c) raise: The raise statement is used to explicitly raise an exception. You can raise built-in exceptions or create custom exceptions using the raise statement.\n",
    "\n",
    "Example:"
   ]
  },
  {
   "cell_type": "code",
   "execution_count": 3,
   "id": "3bb26046-42df-40b2-8bd6-c29b1e1804a5",
   "metadata": {},
   "outputs": [
    {
     "name": "stdin",
     "output_type": "stream",
     "text": [
      "Enter your age:  -4\n"
     ]
    },
    {
     "name": "stdout",
     "output_type": "stream",
     "text": [
      "Invalid age: Age cannot be negative.\n"
     ]
    }
   ],
   "source": [
    "def validate_age(age):\n",
    "    if age < 0:\n",
    "        raise ValueError(\"Age cannot be negative.\")\n",
    "    if age < 18:\n",
    "        raise ValueError(\"You must be at least 18 years old.\")\n",
    "    return True\n",
    "\n",
    "try:\n",
    "    user_age = int(input(\"Enter your age: \"))\n",
    "    validate_age(user_age)\n",
    "    print(\"Access granted.\")\n",
    "except ValueError as ve:\n",
    "    print(\"Invalid age:\", ve)\n"
   ]
  },
  {
   "cell_type": "markdown",
   "id": "8598b2b9-16e6-433b-9bd5-642b56d6661a",
   "metadata": {},
   "source": [
    "Q5. What are custom exceptions in python ? Why do we need custom exceptions? Explain with an example\n",
    "\n",
    "Ans. Custom Exceptions: Custom exceptions in Python are user-defined exception classes that you create to handle specific error scenarios that are not covered by the built-in exception classes. They allow you to create more meaningful and specific error messages for your application, improving code readability and making it easier to debug and handle exceptional situations.\n",
    "\n",
    "Custom Exception is use:   Built-in exceptions cover a wide range of common error scenarios. However, in your application's domain, you might encounter unique errors that aren't well-represented by the standard exceptions. Custom exceptions allow you to create error classes that precisely match the issues in your application.  By using custom exceptions with meaningful names, your code becomes more self-documenting. When someone reads your code, they can easily understand the type of error that is being handled.\n",
    "\n",
    "Example:"
   ]
  },
  {
   "cell_type": "code",
   "execution_count": 9,
   "id": "140c32eb-e577-4491-bb81-04e3c34490e9",
   "metadata": {},
   "outputs": [
    {
     "name": "stdin",
     "output_type": "stream",
     "text": [
      "Enter your age 43\n"
     ]
    },
    {
     "name": "stdout",
     "output_type": "stream",
     "text": [
      "age is valid\n"
     ]
    }
   ],
   "source": [
    "\n",
    "class validateage(Exception):\n",
    "    def __init__(self, msg):\n",
    "        self.msg = msg\n",
    "def validateage(age):\n",
    "    if age < 0:\n",
    "        raise validateage(\"Entered age is negative\")\n",
    "        \n",
    "    elif age > 200:\n",
    "        raise validateage(\"Entered age is very very high\")\n",
    "        \n",
    "    else:\n",
    "        print(\"age is valid\")\n",
    "        \n",
    "try:\n",
    "    age = int(input(\"Enter your age\"))\n",
    "    validateage(age)\n",
    "    \n",
    "except validateage as e:\n",
    "    print(e)"
   ]
  },
  {
   "cell_type": "markdown",
   "id": "340b2400-e8b4-47d3-9d44-ad718465d14b",
   "metadata": {},
   "source": [
    "Q6. Create a custom exception in class. Use this class to handle exception\n",
    "\n",
    "Ans. \n"
   ]
  },
  {
   "cell_type": "code",
   "execution_count": 11,
   "id": "e752acd7-a489-4c2f-8794-8fe714578776",
   "metadata": {},
   "outputs": [
    {
     "name": "stdin",
     "output_type": "stream",
     "text": [
      "Enter the numerator:  67\n",
      "Enter the denominator:  0\n"
     ]
    },
    {
     "name": "stdout",
     "output_type": "stream",
     "text": [
      "Custom error occurred: Division by zero is not allowed.\n"
     ]
    }
   ],
   "source": [
    "class CustomError(Exception):\n",
    "    def __init__(self, message):\n",
    "        self.message = message\n",
    "\n",
    "class Calculator:\n",
    "    def divide(self, a, b):\n",
    "        if b == 0:\n",
    "            raise CustomError(\"Division by zero is not allowed.\")\n",
    "        return a / b\n",
    "\n",
    "try:\n",
    "    calculator = Calculator()\n",
    "    num1 = float(input(\"Enter the numerator: \"))\n",
    "    num2 = float(input(\"Enter the denominator: \"))\n",
    "    result = calculator.divide(num1, num2)\n",
    "    print(\"Result:\", result)\n",
    "except CustomError as ce:\n",
    "    print(\"Custom error occurred:\", ce.message)\n",
    "except ValueError:\n",
    "    print(\"Invalid input: Please enter valid numbers.\")\n"
   ]
  },
  {
   "cell_type": "code",
   "execution_count": null,
   "id": "9f18b80a-e0f5-4aa1-89d7-c742c07e6001",
   "metadata": {},
   "outputs": [],
   "source": []
  }
 ],
 "metadata": {
  "kernelspec": {
   "display_name": "Python 3 (ipykernel)",
   "language": "python",
   "name": "python3"
  },
  "language_info": {
   "codemirror_mode": {
    "name": "ipython",
    "version": 3
   },
   "file_extension": ".py",
   "mimetype": "text/x-python",
   "name": "python",
   "nbconvert_exporter": "python",
   "pygments_lexer": "ipython3",
   "version": "3.10.8"
  }
 },
 "nbformat": 4,
 "nbformat_minor": 5
}
